{
 "cells": [
  {
   "cell_type": "code",
   "execution_count": 1,
   "metadata": {},
   "outputs": [
    {
     "name": "stderr",
     "output_type": "stream",
     "text": [
      "/home/reza/anaconda3/envs/fico/lib/python3.10/site-packages/tqdm/auto.py:21: TqdmWarning: IProgress not found. Please update jupyter and ipywidgets. See https://ipywidgets.readthedocs.io/en/stable/user_install.html\n",
      "  from .autonotebook import tqdm as notebook_tqdm\n"
     ]
    }
   ],
   "source": [
    "import os\n",
    "import yfinance as yf\n",
    "from duckduckgo_search import DDGS\n",
    "\n",
    "# from groq import Groq\n",
    "from llama_index.core.tools import FunctionTool\n",
    "from llama_index.core.tools import QueryEngineTool, ToolMetadata\n",
    "from llama_index.core import ServiceContext, VectorStoreIndex, SimpleDirectoryReader\n",
    "from llama_index.core import Settings\n",
    "from llama_index.core.prompts import PromptTemplate\n",
    "from llama_index.llms.huggingface import HuggingFaceLLM\n",
    "from llama_index.llms.groq import Groq\n",
    "from llama_index.llms.anthropic import Anthropic\n",
    "from llama_index.llms.openai import OpenAI\n",
    "from llama_index.core.agent import FunctionCallingAgentWorker\n",
    "from llama_index.core.base.llms.types import MessageRole, ChatMessage\n",
    "from llama_index.core.schema import Document\n",
    "\n",
    "from llama_parse import LlamaParse\n",
    "\n",
    "from transformers import BitsAndBytesConfig\n",
    "\n",
    "import torch\n",
    "\n",
    "import nest_asyncio\n",
    "nest_asyncio.apply()\n",
    "\n",
    "LLAMA_CLOUD_API_KEY = os.environ.get('LLAMAPARSE_API_KEY')\n",
    "GROQ_API_KEY = os.environ.get('GROQ_API_KEY')\n",
    "OPENAI_API_KEY= os.environ.get('OPENAI_API_KEY')\n",
    "CLAUDE_API_KEY = os.environ.get('CLAUDE_API_KEY')"
   ]
  },
  {
   "cell_type": "code",
   "execution_count": 2,
   "metadata": {},
   "outputs": [],
   "source": [
    "def create_query_engine_tool_from_md(md: str, tool_name: str, tool_description: str):\n",
    "    doc_ = Document.from_dict({'text': md})\n",
    "    index_ = VectorStoreIndex.from_documents([doc_])\n",
    "    \n",
    "    query_engine_ = index_.as_query_engine(response_mode=\"compact\")\n",
    "\n",
    "    query_engine_tool_ = QueryEngineTool(\n",
    "        query_engine=query_engine_,\n",
    "        metadata=ToolMetadata(\n",
    "            name=tool_name,\n",
    "            description=(tool_description),\n",
    "        ),\n",
    "    )\n",
    "        \n",
    "    return query_engine_, query_engine_tool_"
   ]
  },
  {
   "cell_type": "code",
   "execution_count": 3,
   "metadata": {},
   "outputs": [],
   "source": [
    "ticker_to_research = \"BBCA.JK\"\n",
    "ticker = yf.Ticker(ticker_to_research)"
   ]
  },
  {
   "cell_type": "code",
   "execution_count": 4,
   "metadata": {},
   "outputs": [
    {
     "data": {
      "text/plain": [
       "'bbca_jk'"
      ]
     },
     "execution_count": 4,
     "metadata": {},
     "output_type": "execute_result"
    }
   ],
   "source": [
    "stock_name = ticker_to_research.lower().replace(\".\", \"_\")\n",
    "stock_name"
   ]
  },
  {
   "cell_type": "code",
   "execution_count": 5,
   "metadata": {},
   "outputs": [],
   "source": [
    "tools = []"
   ]
  },
  {
   "cell_type": "code",
   "execution_count": 6,
   "metadata": {},
   "outputs": [],
   "source": [
    "company_info_full = ticker.info\n",
    "if company_info_full:\n",
    "    company_info_cleaned = {\n",
    "        \"Name\": company_info_full.get(\"shortName\"),\n",
    "        \"Symbol\": company_info_full.get(\"symbol\"),\n",
    "        \"Current Stock Price\": f\"{company_info_full.get('regularMarketPrice', company_info_full.get('currentPrice'))} {company_info_full.get('currency', 'USD')}\",\n",
    "        \"Market Cap\": f\"{company_info_full.get('marketCap', company_info_full.get('enterpriseValue'))} {company_info_full.get('currency', 'USD')}\",\n",
    "        \"Sector\": company_info_full.get(\"sector\"),\n",
    "        \"Industry\": company_info_full.get(\"industry\"),\n",
    "        \"Address\": company_info_full.get(\"address1\"),\n",
    "        \"City\": company_info_full.get(\"city\"),\n",
    "        \"State\": company_info_full.get(\"state\"),\n",
    "        \"Zip\": company_info_full.get(\"zip\"),\n",
    "        \"Country\": company_info_full.get(\"country\"),\n",
    "        \"EPS\": company_info_full.get(\"trailingEps\"),\n",
    "        \"P/E Ratio\": company_info_full.get(\"trailingPE\"),\n",
    "        \"52 Week Low\": company_info_full.get(\"fiftyTwoWeekLow\"),\n",
    "        \"52 Week High\": company_info_full.get(\"fiftyTwoWeekHigh\"),\n",
    "        \"50 Day Average\": company_info_full.get(\"fiftyDayAverage\"),\n",
    "        \"200 Day Average\": company_info_full.get(\"twoHundredDayAverage\"),\n",
    "        \"Website\": company_info_full.get(\"website\"),\n",
    "        \"Summary\": company_info_full.get(\"longBusinessSummary\"),\n",
    "        \"Analyst Recommendation\": company_info_full.get(\"recommendationKey\"),\n",
    "        \"Number Of Analyst Opinions\": company_info_full.get(\"numberOfAnalystOpinions\"),\n",
    "        \"Employees\": company_info_full.get(\"fullTimeEmployees\"),\n",
    "        \"Total Cash\": company_info_full.get(\"totalCash\"),\n",
    "        \"Free Cash flow\": company_info_full.get(\"freeCashflow\"),\n",
    "        \"Operating Cash flow\": company_info_full.get(\"operatingCashflow\"),\n",
    "        \"EBITDA\": company_info_full.get(\"ebitda\"),\n",
    "        \"Revenue Growth\": company_info_full.get(\"revenueGrowth\"),\n",
    "        \"Gross Margins\": company_info_full.get(\"grossMargins\"),\n",
    "        \"Ebitda Margins\": company_info_full.get(\"ebitdaMargins\"),\n",
    "    }\n",
    "    company_info_md = \"## Company Info\\n\\n\"\n",
    "    for key, value in company_info_cleaned.items():\n",
    "        if value:\n",
    "            company_info_md += f\"  - {key}: {value}\\n\\n\"\n",
    "    \n",
    "    description = f\"\"\"Provides current company information about {stock_name}.\n",
    "        Use a detailed plain text question as input to the tool.\"\"\"\n",
    "    query_engine_company_info, tools_company_info = create_query_engine_tool_from_md(company_info_md, stock_name+\"_company_info\", description)\n",
    "    tools.append(tools_company_info)"
   ]
  },
  {
   "cell_type": "code",
   "execution_count": 7,
   "metadata": {},
   "outputs": [],
   "source": [
    "ddgs = DDGS()\n",
    "company_news = ddgs.news(keywords=ticker_to_research+\" stocks\", max_results=5)\n",
    "if len(company_news) > 0:\n",
    "    company_news_md = \"## Company News\\n\\n\\n\"\n",
    "    for news_item in company_news:\n",
    "        company_news_md += f\"#### {news_item['title']}\\n\\n\"\n",
    "        if \"date\" in news_item:\n",
    "            company_news_md += f\"  - Date: {news_item['date']}\\n\\n\"\n",
    "        if \"url\" in news_item:\n",
    "            company_news_md += f\"  - Link: {news_item['url']}\\n\\n\"\n",
    "        if \"source\" in news_item:\n",
    "            company_news_md += f\"  - Source: {news_item['source']}\\n\\n\"\n",
    "        if \"body\" in news_item:\n",
    "            company_news_md += f\"{news_item['body']}\"\n",
    "        company_news_md += \"\\n\\n\"\n",
    "    \n",
    "    description = f\"\"\"Provides 5 current news about {stock_name}.\n",
    "        Use a detailed plain text question as input to the tool.\"\"\"\n",
    "    query_engine_company_news, tools_company_news = create_query_engine_tool_from_md(company_news_md, stock_name+\"_company_news\", description)\n",
    "    tools.append(tools_company_news)"
   ]
  },
  {
   "cell_type": "code",
   "execution_count": 8,
   "metadata": {},
   "outputs": [
    {
     "data": {
      "text/plain": [
       "Response(response=\"The news about BBCA.JK provides insights into the stock's valuation through the Price to Earnings (P/E) ratio, highlighting a key measure for assessing the stock's performance in relation to its earnings per share. Additionally, the risk disclosure associated with trading in financial instruments and cryptocurrencies emphasizes the high risks involved, indicating a cautious approach may be necessary when considering investments in BBCA.JK.\", source_nodes=[NodeWithScore(node=TextNode(id_='599707ef-ee38-42a3-9ae4-3e34faa13970', embedding=None, metadata={}, excluded_embed_metadata_keys=[], excluded_llm_metadata_keys=[], relationships={<NodeRelationship.SOURCE: '1'>: RelatedNodeInfo(node_id='7e401ef2-15fd-489e-9b2a-610927e6cf0f', node_type=<ObjectType.DOCUMENT: '4'>, metadata={}, hash='75e0b8a0b8bdce4f77b8959c023b9843205aa9d19e4f856c02e839b6468c5e19')}, text=\"## Company News\\n\\n\\n#### Bank Central Asia Tbk (BBCA)\\n\\n  - Date: 2024-05-03T09:14:00+00:00\\n\\n  - Link: https://www.investing.com/equities/bnk-central-as\\n\\n  - Source: Investing\\n\\nRisk Disclosure: Trading in financial instruments and/or cryptocurrencies involves high risks including the risk of losing some, or all, of your investment amount, and may not be suitable for all ...\\n\\n#### Bank Central Asia\\n\\n  - Date: 2024-05-03T00:00:00+00:00\\n\\n  - Link: https://www.wsj.com/market-data/quotes/ID/BBCA\\n\\n  - Source: Wall Street Journal\\n\\nThe Price to Earnings (P/E) ratio, a key valuation measure, is calculated by dividing the stock's most recent closing price by the sum of the diluted earnings per share from continuing operations ...\\n\\n#### JPMorgan BetaBuilders Canada ETF (BBCA)\\n\\n  - Date: 2024-04-15T16:49:00+00:00\\n\\n  - Link: https://finance.yahoo.com/quote/BBCA/news\\n\\n  - Source: Yahoo Finance\\n\\nHundreds of issuers spread across the credit spectrum and it trades on an exchange the same way a stock does. So ETFS like SJNK, SHYG, and BKLN are great ways to get 8% yield in a diversified ...\\n\\n#### Top 10 Warren Buffett Stocks Of May 2024\\n\\n  - Date: 2024-05-01T10:30:00+00:00\\n\\n  - Link: https://www.forbes.com/advisor/investing/best-warren-buffett-stocks/\\n\\n  - Source: Forbes\\n\\nAs a writer, Michael has covered everything from stocks to cryptocurrency and ETFs for many of the world's major financial publications, including Kiplinger, U.S. News and World Report ...\\n\\n#### Magnificent 7 Stocks: What Are They and How They Dominate the Market\\n\\n  - Date: 2024-01-16T21:16:00+00:00\\n\\n  - Link: https://money.usnews.com/investing/articles/magnificent-7-stocks-explainer\\n\\n  - Source: U.S. News & World Report\\n\\nWhile all the original FAANG stocks have continued to perform well, several other high-profile, technology-centric megacap stocks have emerged in recent years to lead the market to new highs.\", start_char_idx=0, end_char_idx=1889, text_template='{metadata_str}\\n\\n{content}', metadata_template='{key}: {value}', metadata_seperator='\\n'), score=0.8613865066786506)], metadata={'599707ef-ee38-42a3-9ae4-3e34faa13970': {}})"
      ]
     },
     "execution_count": 8,
     "metadata": {},
     "output_type": "execute_result"
    }
   ],
   "source": [
    "query_engine_company_news.query(f\"Summarize the news about {ticker_to_research} that give insights about the stock performance\")"
   ]
  },
  {
   "cell_type": "code",
   "execution_count": 9,
   "metadata": {},
   "outputs": [],
   "source": [
    "analyst_recommendations = ticker.recommendations\n",
    "if not analyst_recommendations.empty:\n",
    "    analyst_recommendations_md = analyst_recommendations.to_markdown()\n",
    "\n",
    "    description = f\"\"\"Provides analyst recommendation about {stock_name}.\n",
    "        Use a detailed plain text question as input to the tool.\"\"\"\n",
    "    query_engine_analyst_recommendations, tools_analyst_recommendations = create_query_engine_tool_from_md(analyst_recommendations_md, stock_name+\"_analyst_recommendations\", description)\n",
    "    tools.append(tools_analyst_recommendations)"
   ]
  },
  {
   "cell_type": "code",
   "execution_count": 10,
   "metadata": {},
   "outputs": [
    {
     "data": {
      "text/plain": [
       "Response(response='The analyst recommendation about BBCA.JK is mostly leaning towards a positive outlook, with a majority of analysts suggesting either a buy or hold rating. There are very few sell recommendations, indicating a general sentiment of confidence in BBCA.JK.', source_nodes=[NodeWithScore(node=TextNode(id_='eafbd021-2d55-42b3-b82b-e7c6aff45098', embedding=None, metadata={}, excluded_embed_metadata_keys=[], excluded_llm_metadata_keys=[], relationships={<NodeRelationship.SOURCE: '1'>: RelatedNodeInfo(node_id='811fea5a-3be5-4929-8457-87d7dc5ba20b', node_type=<ObjectType.DOCUMENT: '4'>, metadata={}, hash='4c1de6451ec8ebe363ffc5a4f1de91af6d690d9a6ee80a4b00f61ba612716be0')}, text='|    | period   |   strongBuy |   buy |   hold |   sell |   strongSell |\\n|---:|:---------|------------:|------:|-------:|-------:|-------------:|\\n|  0 | 0m       |           0 |     0 |      0 |      0 |            0 |\\n|  1 | -1m      |           2 |     7 |     10 |      2 |            1 |\\n|  2 | -2m      |           2 |     8 |      9 |      2 |            1 |\\n|  3 | -3m      |           4 |     7 |      9 |      2 |            1 |', start_char_idx=0, end_char_idx=437, text_template='{metadata_str}\\n\\n{content}', metadata_template='{key}: {value}', metadata_seperator='\\n'), score=0.7073102082454656)], metadata={'eafbd021-2d55-42b3-b82b-e7c6aff45098': {}})"
      ]
     },
     "execution_count": 10,
     "metadata": {},
     "output_type": "execute_result"
    }
   ],
   "source": [
    "query_engine_analyst_recommendations.query(f\"Explain the analyst recomendation about {ticker_to_research}?\")"
   ]
  },
  {
   "cell_type": "code",
   "execution_count": 11,
   "metadata": {},
   "outputs": [
    {
     "name": "stderr",
     "output_type": "stream",
     "text": [
      "404 Client Error: Not Found for url: https://query2.finance.yahoo.com/v10/finance/quoteSummary/BBCA.JK?modules=upgradeDowngradeHistory&corsDomain=finance.yahoo.com&formatted=false&symbol=BBCA.JK&crumb=mDLMZyBHZKz\n"
     ]
    }
   ],
   "source": [
    "upgrades_downgrades = ticker.upgrades_downgrades[0:20]\n",
    "if not upgrades_downgrades.empty:\n",
    "    upgrades_downgrades_md = upgrades_downgrades.to_markdown()\n",
    "\n",
    "    description = f\"\"\"Provides upgrades and downgrades of {stock_name}.\n",
    "        Use a detailed plain text question as input to the tool.\"\"\"\n",
    "    query_engine_upgrades_downgrades, tools_upgrades_downgrades = create_query_engine_tool_from_md(upgrades_downgrades_md, stock_name+\"_upgrades_downgrades_md\", description)\n",
    "    tools.append(tools_upgrades_downgrades)"
   ]
  },
  {
   "cell_type": "code",
   "execution_count": 12,
   "metadata": {},
   "outputs": [],
   "source": [
    "local_path='./data/'\n",
    "path_pdf = local_path + 'bbca_split.pdf'\n",
    "\n",
    "output_directory_path = local_path+'/test'"
   ]
  },
  {
   "cell_type": "code",
   "execution_count": 13,
   "metadata": {},
   "outputs": [],
   "source": [
    "# quantization_config = BitsAndBytesConfig(\n",
    "#     load_in_4bit=True,\n",
    "#     bnb_4bit_compute_dtype=torch.float16,\n",
    "#     bnb_4bit_quant_type=\"nf4\",\n",
    "#     bnb_4bit_use_double_quant=True,\n",
    "# )\n",
    "\n",
    "# llm_local = HuggingFaceLLM(\n",
    "#     model_name=\"meta-llama/Llama-2-7b-chat-hf\",\n",
    "#     tokenizer_name=\"meta-llama/Llama-2-7b-chat-hf\",\n",
    "#     query_wrapper_prompt=PromptTemplate(\"<s> [INST] {query_str} [/INST] \"),\n",
    "#     context_window=3900,\n",
    "#     model_kwargs={\"quantization_config\": quantization_config},\n",
    "#     device_map=\"auto\",\n",
    "# )"
   ]
  },
  {
   "cell_type": "code",
   "execution_count": 14,
   "metadata": {},
   "outputs": [],
   "source": [
    "# llm = Groq(model=\"llama3-70b-8192\", api_key=GROQ_API_KEY, is_function_calling_model=True)\n",
    "llm_anthropic = Anthropic(model=\"claude-3-haiku-20240307\", api_key=CLAUDE_API_KEY)\n",
    "# llm_anthropic = Anthropic(model=\"claude-3-opus-20240229\", api_key=CLAUDE_API_KEY)\n",
    "# llm_openai = OpenAI(model=\"gpt-4-turbo\", temperature=0.1)\n",
    "\n",
    "Settings.llm = llm_anthropic\n",
    "Settings.embed_model = \"local:BAAI/bge-small-en-v1.5\""
   ]
  },
  {
   "cell_type": "code",
   "execution_count": 15,
   "metadata": {},
   "outputs": [],
   "source": [
    "# set up parser\n",
    "parser = LlamaParse(api_key=LLAMA_CLOUD_API_KEY, result_type=\"markdown\")"
   ]
  },
  {
   "cell_type": "code",
   "execution_count": 16,
   "metadata": {},
   "outputs": [
    {
     "name": "stderr",
     "output_type": "stream",
     "text": [
      "Loading files:   0%|          | 0/1 [00:00<?, ?file/s]"
     ]
    },
    {
     "name": "stdout",
     "output_type": "stream",
     "text": [
      "Started parsing the file under job_id e89ccf84-d244-400c-817f-0a4e00a5d6e2\n"
     ]
    },
    {
     "name": "stderr",
     "output_type": "stream",
     "text": [
      "Loading files: 100%|██████████| 1/1 [00:02<00:00,  2.84s/file]\n"
     ]
    }
   ],
   "source": [
    "file_extractor = {\".pdf\": parser}\n",
    "dir_reader = SimpleDirectoryReader(input_files=[path_pdf], file_extractor=file_extractor)\n",
    "annual_report_documents = dir_reader.load_data(show_progress=True)"
   ]
  },
  {
   "cell_type": "code",
   "execution_count": 17,
   "metadata": {},
   "outputs": [],
   "source": [
    "# Index the documents in a vectorStore\n",
    "annual_report_index = VectorStoreIndex.from_documents(annual_report_documents)\n",
    "query_engine_annual_report = annual_report_index.as_query_engine(response_mode=\"compact\")"
   ]
  },
  {
   "cell_type": "code",
   "execution_count": 18,
   "metadata": {},
   "outputs": [
    {
     "data": {
      "text/plain": [
       "'The Net Income in 2022 was 40,756 billion Rupiah, as reported in the financial highlights table.'"
      ]
     },
     "execution_count": 18,
     "metadata": {},
     "output_type": "execute_result"
    }
   ],
   "source": [
    "# query the engine\n",
    "query = \"What was the Net Income in 2022, the Reported one?\"\n",
    "response_jpmorgan = query_engine_annual_report.query(query)\n",
    "response_jpmorgan.response"
   ]
  },
  {
   "cell_type": "code",
   "execution_count": 29,
   "metadata": {},
   "outputs": [
    {
     "data": {
      "text/plain": [
       "'- The annual report provides detailed financial information for PT Bank Central Asia Tbk (BCA) over the past 5 years, including:\\n\\n- Financial position data such as total assets, earning assets, loans, placements, liabilities, third-party funds, equity, etc.\\n\\n- Comprehensive income data such as operating income, net interest income, operating expenses, impairment losses, net income, and total comprehensive income.\\n\\n- Breakdowns of key financial components like current accounts, savings accounts, time deposits, borrowings, and debt securities.\\n\\n- Earnings per share information.\\n\\n- Notes on the financial data, such as adjustments for the 1:5 stock split in 2021 and reporting in accordance with regulatory guidelines.\\n\\n- The report covers both the consolidated group results as well as the parent company-only figures.'"
      ]
     },
     "execution_count": 29,
     "metadata": {},
     "output_type": "execute_result"
    }
   ],
   "source": [
    "# query the engine\n",
    "query = \"Summarize what information included in the annual report? write in bullet points.\"\n",
    "query_engine_annual_report.query(query).response"
   ]
  },
  {
   "cell_type": "code",
   "execution_count": 20,
   "metadata": {},
   "outputs": [],
   "source": [
    "#Create the Query Engine Tool over the RAG pipeline\n",
    "query_engine_tool_ar = QueryEngineTool(\n",
    "    query_engine=query_engine_annual_report,\n",
    "    metadata=ToolMetadata(\n",
    "        name=stock_name+\"_annualreport\",\n",
    "        description=(\n",
    "        f\"\"\"Provides Annual Report about {stock_name}\n",
    "        Use a detailed plain text question as input to the tool.\"\"\"\n",
    "        ),\n",
    "    ),\n",
    ")\n",
    "\n",
    "tools.append(query_engine_tool_ar)"
   ]
  },
  {
   "cell_type": "code",
   "execution_count": 21,
   "metadata": {},
   "outputs": [],
   "source": [
    "def evolution(a: float, b: float) -> float:\n",
    "    \"\"\"Evolution from value b to value a\"\"\"\n",
    "    return f\"{a-b}\"\n",
    "evolution_tool = FunctionTool.from_defaults(fn=evolution)\n",
    "\n",
    "def evolution_perc(a: float, b: float) -> float:\n",
    "    \"\"\"Evolution in percentage from value b to value a\"\"\"\n",
    "    return f\"{round(100*(a/b-1),0)}%\"\n",
    "evolution_perc_tool = FunctionTool.from_defaults(fn=evolution_perc)\n",
    "\n",
    "def cagr(a: float, b: float, n: int) -> float:\n",
    "    \"\"\"Compound annual growth rate CAGR from value b to value a over n period\"\"\"\n",
    "    return f\"{round(100*((a/b)**(1/n)-1),0)}%\"\n",
    "cagr_tool = FunctionTool.from_defaults(fn=cagr)\n",
    "\n",
    "def price_earning_ratio(price: float, eps: float) -> float:\n",
    "    \"\"\"Price per earning ratio is a ratio of the share price devided by the earning per share(EPS) value\"\"\"\n",
    "    return price/eps\n",
    "pe_tool = FunctionTool.from_defaults(fn=price_earning_ratio)\n",
    "\n",
    "# def is_document_available() -> bool:\n",
    "#     \"\"\"Check if the document is available\"\"\"\n",
    "#     return documents is not None\n",
    "# is_document_available_tool = FunctionTool.from_defaults(fn=is_document_available)\n"
   ]
  },
  {
   "cell_type": "code",
   "execution_count": 22,
   "metadata": {},
   "outputs": [],
   "source": [
    "system_prompt = f\"\"\"You are a usefull asstistant for financial analysis. Answer the question related to that company. \n",
    "Use the {stock_name+\"_annualreport\"} tool to get information about annual report, for example: net income, share performance, capital, etc.\n",
    "Use the {stock_name+\"_company_info\"} tool to get current information of the stock or company like company name, current stock price, etc.\n",
    "Use the {stock_name+\"_company_news\"} tool to get news about the company, you can ask summary of the news using this tools.\n",
    "Use the {stock_name+\"_analyst_recommendations\"} tool to get analyst recommendations, you can ask insight from analyst recomandations about the stocks.\n",
    "Use the {stock_name+\"_upgrades_downgrades_md\"} tool to get upgrades and downgrades of the stocks.\n",
    "Carefully read this information and provide a clear and concise answer to the user.\n",
    "When you share numbers, make sure to include the units (e.g., millions/billions) and currency.\n",
    "Do not use phrases like 'based on my knowledge' or 'depending on the information'.\n",
    "do not answer any question that is not related to the {ticker_to_research}.\"\"\""
   ]
  },
  {
   "cell_type": "code",
   "execution_count": 23,
   "metadata": {},
   "outputs": [],
   "source": [
    "agent_worker = FunctionCallingAgentWorker.from_tools(\n",
    "        tools+[evolution_tool, evolution_perc_tool, cagr_tool, pe_tool], llm=llm_anthropic,\n",
    "        system_prompt=system_prompt,\n",
    "        verbose=True,\n",
    "    )\n",
    "agent = agent_worker.as_agent()"
   ]
  },
  {
   "cell_type": "code",
   "execution_count": 24,
   "metadata": {},
   "outputs": [],
   "source": [
    "# chat_history = [ChatMessage(role=MessageRole.SYSTEM, content=system_prompt)]"
   ]
  },
  {
   "cell_type": "code",
   "execution_count": 26,
   "metadata": {},
   "outputs": [
    {
     "name": "stdout",
     "output_type": "stream",
     "text": [
      "Added user message to memory: What was the highest and lowest stock price in 2022, the Reported one?\n",
      "=== Calling Function ===\n",
      "Calling function: bbca_jk_annualreport with args: {\"input\": \"bbca_jk highest and lowest stock price in 2022\"}\n",
      "=== Function Output ===\n",
      "According to the management report provided in the context, the highest and lowest stock prices for BCA (bbca_jk) in 2022 were:\n",
      "\n",
      "Highest price in 2022: 9,400 Rupiah\n",
      "Lowest price in 2022: 7,000 Rupiah\n",
      "\n",
      "The report shows the stock price movements for BCA from 2019 to 2023, with the highest and lowest prices for each quarter. In 2022, the highest price was 9,400 Rupiah in the fourth quarter, and the lowest price was 7,000 Rupiah in the third quarter.\n",
      "=== LLM Response ===\n",
      "The highest reported stock price for bbca_jk in 2022 was 9,400 Rupiah, and the lowest reported stock price was 7,000 Rupiah.\n",
      "assistant: The highest reported stock price for bbca_jk in 2022 was 9,400 Rupiah, and the lowest reported stock price was 7,000 Rupiah.\n"
     ]
    }
   ],
   "source": [
    "query = \"What was the highest and lowest stock price in 2022, the Reported one?\"\n",
    "response = agent.chat(query)\n",
    "print(str(response))"
   ]
  },
  {
   "cell_type": "code",
   "execution_count": 24,
   "metadata": {},
   "outputs": [
    {
     "name": "stdout",
     "output_type": "stream",
     "text": [
      "assistant: Based on the analyst recommendations for bbca_jk:\n",
      "\n",
      "- The majority of analysts currently have a \"Buy\" rating on the stock, indicating they believe the stock has potential for further upside.\n",
      "- There are also a number of analysts with a \"Hold\" rating, suggesting the stock is trading at a fair valuation currently and may not have significant near-term upside or downside.\n",
      "- Overall, the analyst consensus seems to be that bbca_jk is a reasonably attractive investment opportunity, with the potential for the stock price to appreciate over time. However, there are also some analysts who believe the current valuation is appropriate and the stock may not see major gains in the short-term.\n",
      "\n",
      "The analyst recommendations provide a mixed but generally positive outlook on the prospects for bbca_jk going forward. Investors should review the full range of analyst views to form their own assessment of the company and stock.\n"
     ]
    }
   ],
   "source": [
    "query = \"What is the analyst recomandation about this stocks?\"\n",
    "response = agent.chat(query)\n",
    "print(str(response))"
   ]
  },
  {
   "cell_type": "code",
   "execution_count": 25,
   "metadata": {},
   "outputs": [
    {
     "name": "stdout",
     "output_type": "stream",
     "text": [
      "assistant: The reported Net Income for bbca_jk in 2020 was 27,147 billion Indonesian Rupiah.\n"
     ]
    }
   ],
   "source": [
    "query = \"What was the Net Income in 2020, the Reported one?\"\n",
    "response = agent.chat(query)\n",
    "print(str(response))"
   ]
  },
  {
   "cell_type": "code",
   "execution_count": 26,
   "metadata": {},
   "outputs": [
    {
     "data": {
      "text/plain": [
       "'user'"
      ]
     },
     "execution_count": 26,
     "metadata": {},
     "output_type": "execute_result"
    }
   ],
   "source": [
    "MessageRole.USER.value"
   ]
  },
  {
   "cell_type": "code",
   "execution_count": 27,
   "metadata": {},
   "outputs": [
    {
     "data": {
      "text/plain": [
       "[{'role': 'user',\n",
       "  'content': 'What is the analyst recomandation about this stocks?'},\n",
       " {'role': 'assistant',\n",
       "  'content': 'Based on the analyst recommendations for bbca_jk:\\n\\n- The majority of analysts currently have a \"Buy\" rating on the stock, indicating they believe the stock has potential for further upside.\\n- There are also a number of analysts with a \"Hold\" rating, suggesting the stock is trading at a fair valuation currently and may not have significant near-term upside or downside.\\n- Overall, the analyst consensus seems to be that bbca_jk is a reasonably attractive investment opportunity, with the potential for the stock price to appreciate over time. However, there are also some analysts who believe the current valuation is appropriate and the stock may not see major gains in the short-term.\\n\\nThe analyst recommendations provide a mixed but generally positive outlook on the prospects for bbca_jk going forward. Investors should review the full range of analyst views to form their own assessment of the company and stock.'},\n",
       " {'role': 'user',\n",
       "  'content': 'What was the Net Income in 2020, the Reported one?'},\n",
       " {'role': 'assistant',\n",
       "  'content': 'The reported Net Income for bbca_jk in 2020 was 27,147 billion Indonesian Rupiah.'}]"
      ]
     },
     "execution_count": 27,
     "metadata": {},
     "output_type": "execute_result"
    }
   ],
   "source": [
    "[{\"role\": chat.role.value, \"content\": chat.content} for chat in agent.chat_history if chat.role in [MessageRole.USER, MessageRole.ASSISTANT] and len(chat.additional_kwargs.get('tool_calls', [])) == 0]"
   ]
  },
  {
   "cell_type": "code",
   "execution_count": 28,
   "metadata": {},
   "outputs": [
    {
     "data": {
      "text/plain": [
       "[ChatMessage(role=<MessageRole.USER: 'user'>, content='What is the analyst recomandation about this stocks?', additional_kwargs={}),\n",
       " ChatMessage(role=<MessageRole.ASSISTANT: 'assistant'>, content='', additional_kwargs={'tool_calls': [{'id': 'toolu_012ym1CFZmU7gg4Sz9TuvtjA', 'input': {'input': 'analyst recommendation about bbca_jk'}, 'name': 'bbca_jk_analyst_recommendations', 'type': 'tool_use'}]}),\n",
       " ChatMessage(role=<MessageRole.TOOL: 'tool'>, content='The analyst recommendation about bbca_jk is generally positive, with a mix of buy and hold ratings.', additional_kwargs={'name': 'bbca_jk_analyst_recommendations', 'tool_call_id': 'toolu_012ym1CFZmU7gg4Sz9TuvtjA'}),\n",
       " ChatMessage(role=<MessageRole.ASSISTANT: 'assistant'>, content='Based on the analyst recommendations for bbca_jk:\\n\\n- The majority of analysts currently have a \"Buy\" rating on the stock, indicating they believe the stock has potential for further upside.\\n- There are also a number of analysts with a \"Hold\" rating, suggesting the stock is trading at a fair valuation currently and may not have significant near-term upside or downside.\\n- Overall, the analyst consensus seems to be that bbca_jk is a reasonably attractive investment opportunity, with the potential for the stock price to appreciate over time. However, there are also some analysts who believe the current valuation is appropriate and the stock may not see major gains in the short-term.\\n\\nThe analyst recommendations provide a mixed but generally positive outlook on the prospects for bbca_jk going forward. Investors should review the full range of analyst views to form their own assessment of the company and stock.', additional_kwargs={'tool_calls': []}),\n",
       " ChatMessage(role=<MessageRole.USER: 'user'>, content='What was the Net Income in 2020, the Reported one?', additional_kwargs={}),\n",
       " ChatMessage(role=<MessageRole.ASSISTANT: 'assistant'>, content='', additional_kwargs={'tool_calls': [{'id': 'toolu_01Jbm4hx6eQCgzEa649MwKUy', 'input': {'input': 'What was the Net Income of bbca_jk in 2020?'}, 'name': 'bbca_jk_annualreport', 'type': 'tool_use'}]}),\n",
       " ChatMessage(role=<MessageRole.TOOL: 'tool'>, content='According to the financial highlights provided in the context, the Net Income of BCA (bbca_jk) in 2020 was 27,147 billion Rupiah.', additional_kwargs={'name': 'bbca_jk_annualreport', 'tool_call_id': 'toolu_01Jbm4hx6eQCgzEa649MwKUy'}),\n",
       " ChatMessage(role=<MessageRole.ASSISTANT: 'assistant'>, content='The reported Net Income for bbca_jk in 2020 was 27,147 billion Indonesian Rupiah.', additional_kwargs={'tool_calls': []})]"
      ]
     },
     "execution_count": 28,
     "metadata": {},
     "output_type": "execute_result"
    }
   ],
   "source": [
    "agent.chat_history"
   ]
  },
  {
   "cell_type": "code",
   "execution_count": 29,
   "metadata": {},
   "outputs": [
    {
     "name": "stdout",
     "output_type": "stream",
     "text": [
      "assistant: The reported Net Income of bbca_jk increased from 27,147 billion Rupiah in 2020 to 31,440 billion Rupiah in 2021, an evolution of 4,293 billion Rupiah or approximately 15.8% growth year-over-year.\n"
     ]
    }
   ],
   "source": [
    "query = \"What was the evolution of the Net Income from 2020 to 2021, the Reported one?\"\n",
    "response = agent.chat(query)\n",
    "print(str(response))"
   ]
  },
  {
   "cell_type": "code",
   "execution_count": 30,
   "metadata": {},
   "outputs": [
    {
     "name": "stdout",
     "output_type": "stream",
     "text": [
      "assistant: According to the company information provided, the current stock price of BBCA.JK is 9850.0 Indonesian Rupiah.\n"
     ]
    }
   ],
   "source": [
    "query = \"What is the current stock price of BBCA.JK?\"\n",
    "response = agent.chat(query)\n",
    "print(str(response))"
   ]
  },
  {
   "cell_type": "code",
   "execution_count": null,
   "metadata": {},
   "outputs": [],
   "source": []
  },
  {
   "cell_type": "code",
   "execution_count": 31,
   "metadata": {},
   "outputs": [
    {
     "data": {
      "text/plain": [
       "True"
      ]
     },
     "execution_count": 31,
     "metadata": {},
     "output_type": "execute_result"
    }
   ],
   "source": [
    "agent.memory.chat_store.store['chat_history'][0].role in [MessageRole.USER, MessageRole.ASSISTANT]"
   ]
  },
  {
   "cell_type": "code",
   "execution_count": 32,
   "metadata": {},
   "outputs": [
    {
     "data": {
      "text/plain": [
       "[ChatMessage(role=<MessageRole.USER: 'user'>, content='What is the analyst recomandation about this stocks?', additional_kwargs={}),\n",
       " ChatMessage(role=<MessageRole.ASSISTANT: 'assistant'>, content='Based on the analyst recommendations for bbca_jk:\\n\\n- The majority of analysts currently have a \"Buy\" rating on the stock, indicating they believe the stock has potential for further upside.\\n- There are also a number of analysts with a \"Hold\" rating, suggesting the stock is trading at a fair valuation currently and may not have significant near-term upside or downside.\\n- Overall, the analyst consensus seems to be that bbca_jk is a reasonably attractive investment opportunity, with the potential for the stock price to appreciate over time. However, there are also some analysts who believe the current valuation is appropriate and the stock may not see major gains in the short-term.\\n\\nThe analyst recommendations provide a mixed but generally positive outlook on the prospects for bbca_jk going forward. Investors should review the full range of analyst views to form their own assessment of the company and stock.', additional_kwargs={'tool_calls': []}),\n",
       " ChatMessage(role=<MessageRole.USER: 'user'>, content='What was the Net Income in 2020, the Reported one?', additional_kwargs={}),\n",
       " ChatMessage(role=<MessageRole.ASSISTANT: 'assistant'>, content='The reported Net Income for bbca_jk in 2020 was 27,147 billion Indonesian Rupiah.', additional_kwargs={'tool_calls': []}),\n",
       " ChatMessage(role=<MessageRole.USER: 'user'>, content='What was the evolution of the Net Income from 2020 to 2021, the Reported one?', additional_kwargs={}),\n",
       " ChatMessage(role=<MessageRole.ASSISTANT: 'assistant'>, content='The reported Net Income of bbca_jk increased from 27,147 billion Rupiah in 2020 to 31,440 billion Rupiah in 2021, an evolution of 4,293 billion Rupiah or approximately 15.8% growth year-over-year.', additional_kwargs={'tool_calls': []}),\n",
       " ChatMessage(role=<MessageRole.USER: 'user'>, content='What is the current stock price of BBCA.JK?', additional_kwargs={}),\n",
       " ChatMessage(role=<MessageRole.ASSISTANT: 'assistant'>, content='According to the company information provided, the current stock price of BBCA.JK is 9850.0 Indonesian Rupiah.', additional_kwargs={'tool_calls': []})]"
      ]
     },
     "execution_count": 32,
     "metadata": {},
     "output_type": "execute_result"
    }
   ],
   "source": [
    "[chat for chat in agent.memory.chat_store.store['chat_history'] if chat.role in [MessageRole.USER, MessageRole.ASSISTANT] and len(chat.additional_kwargs.get('tool_calls', [])) == 0]"
   ]
  },
  {
   "cell_type": "code",
   "execution_count": 33,
   "metadata": {},
   "outputs": [
    {
     "name": "stdout",
     "output_type": "stream",
     "text": [
      "assistant: The reported Net Income of bbca_jk increased from 31,440 billion Rupiah in 2021 to 40,756 billion Rupiah in 2022, an evolution of 9,316 billion Rupiah or approximately 29.6% growth year-over-year.\n"
     ]
    }
   ],
   "source": [
    "query = \"What was the evolution of the Net Income from 2021 to 2022, the Reported one?\"\n",
    "response = agent.chat(query)\n",
    "print(str(response))"
   ]
  },
  {
   "cell_type": "code",
   "execution_count": 34,
   "metadata": {},
   "outputs": [
    {
     "name": "stdout",
     "output_type": "stream",
     "text": [
      "assistant: The reported Net Income of bbca_jk increased from 27,147 billion Rupiah in 2020 to 31,440 billion Rupiah in 2021, representing an evolution of 16.0% in percentage terms.\n"
     ]
    }
   ],
   "source": [
    "query = \"What was the evolution in term of percentage of the Net Income from 2020 to 2021, the Reported one?\"\n",
    "response = agent.chat(query)\n",
    "print(str(response))"
   ]
  },
  {
   "cell_type": "code",
   "execution_count": 35,
   "metadata": {},
   "outputs": [
    {
     "name": "stdout",
     "output_type": "stream",
     "text": [
      "assistant: Okay, let's compare the evolution of the reported Net Income for bbca_jk between 2020 to 2021 and 2021 to 2022:\n",
      "\n",
      "2020 to 2021 Net Income evolution:\n",
      "- 2020 Net Income: 27,147 billion Rupiah\n",
      "- 2021 Net Income: 31,440 billion Rupiah\n",
      "- Evolution from 2020 to 2021: 16.0% increase\n",
      "\n",
      "2021 to 2022 Net Income evolution: \n",
      "- 2021 Net Income: 31,440 billion Rupiah\n",
      "- 2022 Net Income: 40,756 billion Rupiah\n",
      "- Evolution from 2021 to 2022: 29.6% increase\n",
      "\n",
      "The key differences are:\n",
      "\n",
      "- From 2020 to 2021, the Net Income grew by 16.0%\n",
      "- From 2021 to 2022, the Net Income grew at a faster pace of 29.6%\n",
      "\n",
      "So the Net Income growth accelerated from 2020-2021 to 2021-2022, increasing from 16.0% to 29.6% year-over-year. This indicates the company's profitability and earnings power strengthened more significantly in the most recent year compared to the prior year.\n",
      "\n",
      "Overall, the reported Net Income for bbca_jk showed strong growth in both periods, but the pace of growth picked up notably from 2021 to 2022.\n"
     ]
    }
   ],
   "source": [
    "query = \"Compare the evolution of the Net Income between 2020 to 2021 and 2021 to 2022, the Reported one.\"\n",
    "response = agent.chat(query)\n",
    "print(str(response))"
   ]
  },
  {
   "cell_type": "code",
   "execution_count": 36,
   "metadata": {},
   "outputs": [
    {
     "name": "stdout",
     "output_type": "stream",
     "text": [
      "assistant: The compound annual growth rate (CAGR) of the reported Net Income for bbca_jk from 2020 to 2022 was 23.0%.\n",
      "\n",
      "This indicates the Net Income grew at an average annual rate of 23.0% over this 2-year period, which is a strong and accelerating growth trajectory for the company.\n"
     ]
    }
   ],
   "source": [
    "query = \"What was the compound annual growth of the Net Income from 2020 to 2022, the Reported one?\"\n",
    "response = agent.chat(query)\n",
    "print(str(response))"
   ]
  },
  {
   "cell_type": "code",
   "execution_count": 38,
   "metadata": {},
   "outputs": [
    {
     "name": "stdout",
     "output_type": "stream",
     "text": [
      "assistant: So the current price-to-earnings (P/E) ratio for bbca_jk based on the 2022 Net Income of 40,756 billion Rupiah and the current stock price of 9850.0 Indonesian Rupiah is approximately 0.24.\n",
      "\n",
      "This relatively low P/E ratio suggests the stock may be undervalued compared to the company's earnings power. However, more information would be needed to fully assess the valuation.\n"
     ]
    }
   ],
   "source": [
    "query = \"based on the lowest and highest stock price of BBCA.JK in 2023 and given the financial report, what was the price/earning ratio?\"\n",
    "response = agent.chat(query)\n",
    "print(str(response))"
   ]
  },
  {
   "cell_type": "code",
   "execution_count": null,
   "metadata": {},
   "outputs": [],
   "source": []
  },
  {
   "cell_type": "code",
   "execution_count": null,
   "metadata": {},
   "outputs": [],
   "source": []
  },
  {
   "cell_type": "code",
   "execution_count": null,
   "metadata": {},
   "outputs": [],
   "source": []
  },
  {
   "cell_type": "code",
   "execution_count": null,
   "metadata": {},
   "outputs": [],
   "source": [
    "from llama_index.core.query_engine import RouterQueryEngine"
   ]
  },
  {
   "cell_type": "code",
   "execution_count": null,
   "metadata": {},
   "outputs": [],
   "source": [
    "query_engine = RouterQueryEngine.from_defaults(\n",
    "    [query_engine_tool],\n",
    "    select_multi=True,\n",
    "    verbose=True,\n",
    ")"
   ]
  },
  {
   "cell_type": "code",
   "execution_count": null,
   "metadata": {},
   "outputs": [
    {
     "name": "stdout",
     "output_type": "stream",
     "text": [
      "\u001b[1;3;38;5;200mSelecting query engine 0: This choice is relevant because it provides Annual Report information about JPMorgan, which may include the Net Income for 2020..\n",
      "\u001b[0m"
     ]
    },
    {
     "data": {
      "text/plain": [
       "'The Net Income in 2020, the Reported one, was $29.1 billion.'"
      ]
     },
     "metadata": {},
     "output_type": "display_data"
    }
   ],
   "source": [
    "query = \"What was the Net Income in 2020, the Reported one?\"\n",
    "response = query_engine.query(query)\n",
    "response.response"
   ]
  },
  {
   "cell_type": "code",
   "execution_count": null,
   "metadata": {},
   "outputs": [
    {
     "name": "stdout",
     "output_type": "stream",
     "text": [
      "\u001b[1;3;38;5;200mSelecting query engine 0: This choice is relevant because it provides Annual Report information about JPMorgan for 2022, which may include the Net Income data for 2020 and 2021, allowing us to determine the evolution of the Net Income from 2020 to 2021..\n",
      "\u001b[0m"
     ]
    },
    {
     "data": {
      "text/plain": [
       "'The Net Income evolved from $29.1 billion in 2020 to $48.3 billion in 2021.'"
      ]
     },
     "metadata": {},
     "output_type": "display_data"
    }
   ],
   "source": [
    "query = \"What was the evolution of the Net Income from 2020 to 2021, the Reported one?\"\n",
    "response = query_engine.query(query)\n",
    "response.response"
   ]
  },
  {
   "cell_type": "code",
   "execution_count": null,
   "metadata": {},
   "outputs": [
    {
     "name": "stdout",
     "output_type": "stream",
     "text": [
      "\u001b[1;3;38;5;200mSelecting query engine 0: This choice is relevant because it provides Annual Report information about JPMorgan for 2022, which likely includes financial data such as Net Income for previous years, allowing for the calculation of the percentage evolution from 2020 to 2021..\n",
      "\u001b[0m"
     ]
    },
    {
     "data": {
      "text/plain": [
       "'The Net Income in 2020 was $29.1 billion, and in 2021 it was $48.3 billion. To find the percentage change, first, find the difference: $48.3 billion - $29.1 billion = $19.2 billion. Then, divide the difference by the initial value and multiply by 100: ($19.2 billion / $29.1 billion) * 100 = 65.9%.'"
      ]
     },
     "metadata": {},
     "output_type": "display_data"
    }
   ],
   "source": [
    "query = \"What was the evolution in term of percentage of the Net Income from 2020 to 2021, the Reported one?\"\n",
    "response = query_engine.query(query)\n",
    "response.response"
   ]
  }
 ],
 "metadata": {
  "kernelspec": {
   "display_name": "phidata",
   "language": "python",
   "name": "python3"
  },
  "language_info": {
   "codemirror_mode": {
    "name": "ipython",
    "version": 3
   },
   "file_extension": ".py",
   "mimetype": "text/x-python",
   "name": "python",
   "nbconvert_exporter": "python",
   "pygments_lexer": "ipython3",
   "version": "3.10.14"
  }
 },
 "nbformat": 4,
 "nbformat_minor": 2
}
